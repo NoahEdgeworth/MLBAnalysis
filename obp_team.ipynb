{
 "cells": [
  {
   "cell_type": "code",
   "execution_count": 1,
   "id": "initial_id",
   "metadata": {
    "collapsed": true,
    "ExecuteTime": {
     "end_time": "2023-12-07T22:17:22.905039Z",
     "start_time": "2023-12-07T22:17:22.552574Z"
    }
   },
   "outputs": [],
   "source": [
    "import pandas as pd"
   ]
  },
  {
   "cell_type": "code",
   "execution_count": 57,
   "outputs": [
    {
     "data": {
      "text/plain": "      Pos                 Name   Age    G    PA    AB    R     H   2B   3B  \\\n0       C       Gabriel Moreno    23  111   380   341   33    97   19    1   \n1      1B     Christian Walker    32  157   661   582   86   150   36    2   \n2      2B         Ketel Marte#    29  150   650   569   94   157   26    9   \n3      SS     Geraldo Perdomo#    23  144   495   407   71   100   20    4   \n4      3B      Emmanuel Rivera    27   86   283   257   32    67   13    0   \n...   ...                  ...   ...  ...   ...   ...  ...   ...  ...  ...   \n1792    P            Chad Kuhl    30    0     0   NaN  NaN   NaN  NaN  NaN   \n1793    P      MacKenzie Gore*    24    0     0   NaN  NaN   NaN  NaN  NaN   \n1794  NaN          Team Totals  26.9  162  6085  5522  700  1401  279   26   \n1795  NaN  Rank in 15 NL teams   NaN  NaN   NaN     4   12     5    6    7   \n1796  NaN                  NaN   NaN  NaN   NaN   NaN  NaN   NaN  NaN  NaN   \n\n      ...   OBP   SLG   OPS OPS+    TB  GDP  HBP   SH   SF  IBB  \n0     ...  .339  .408  .747  104   139   17    3    0    7  NaN  \n1     ...  .333  .497  .830  123   289   13    8    0    8  NaN  \n2     ...  .358  .485  .844  128   276   16    5    0    5  NaN  \n3     ...  .353  .359  .712   96   146    2    6   14    4  NaN  \n4     ...  .314  .358  .672   84    92    9    0    0    4  NaN  \n...   ...   ...   ...   ...  ...   ...  ...  ...  ...  ...  ...  \n1792  ...   NaN   NaN   NaN  NaN   NaN  NaN  NaN  NaN  NaN  NaN  \n1793  ...   NaN   NaN   NaN  NaN   NaN  NaN  NaN  NaN  NaN  NaN  \n1794  ...  .314  .396  .709   95  2185  112   78   20   38  NaN  \n1795  ...    13    12    12  NaN    11  NaN    5  NaN   11  NaN  \n1796  ...   NaN   NaN   NaN  NaN   NaN  NaN  NaN  NaN  NaN  NaN  \n\n[1797 rows x 27 columns]",
      "text/html": "<div>\n<style scoped>\n    .dataframe tbody tr th:only-of-type {\n        vertical-align: middle;\n    }\n\n    .dataframe tbody tr th {\n        vertical-align: top;\n    }\n\n    .dataframe thead th {\n        text-align: right;\n    }\n</style>\n<table border=\"1\" class=\"dataframe\">\n  <thead>\n    <tr style=\"text-align: right;\">\n      <th></th>\n      <th>Pos</th>\n      <th>Name</th>\n      <th>Age</th>\n      <th>G</th>\n      <th>PA</th>\n      <th>AB</th>\n      <th>R</th>\n      <th>H</th>\n      <th>2B</th>\n      <th>3B</th>\n      <th>...</th>\n      <th>OBP</th>\n      <th>SLG</th>\n      <th>OPS</th>\n      <th>OPS+</th>\n      <th>TB</th>\n      <th>GDP</th>\n      <th>HBP</th>\n      <th>SH</th>\n      <th>SF</th>\n      <th>IBB</th>\n    </tr>\n  </thead>\n  <tbody>\n    <tr>\n      <th>0</th>\n      <td>C</td>\n      <td>Gabriel Moreno</td>\n      <td>23</td>\n      <td>111</td>\n      <td>380</td>\n      <td>341</td>\n      <td>33</td>\n      <td>97</td>\n      <td>19</td>\n      <td>1</td>\n      <td>...</td>\n      <td>.339</td>\n      <td>.408</td>\n      <td>.747</td>\n      <td>104</td>\n      <td>139</td>\n      <td>17</td>\n      <td>3</td>\n      <td>0</td>\n      <td>7</td>\n      <td>NaN</td>\n    </tr>\n    <tr>\n      <th>1</th>\n      <td>1B</td>\n      <td>Christian Walker</td>\n      <td>32</td>\n      <td>157</td>\n      <td>661</td>\n      <td>582</td>\n      <td>86</td>\n      <td>150</td>\n      <td>36</td>\n      <td>2</td>\n      <td>...</td>\n      <td>.333</td>\n      <td>.497</td>\n      <td>.830</td>\n      <td>123</td>\n      <td>289</td>\n      <td>13</td>\n      <td>8</td>\n      <td>0</td>\n      <td>8</td>\n      <td>NaN</td>\n    </tr>\n    <tr>\n      <th>2</th>\n      <td>2B</td>\n      <td>Ketel Marte#</td>\n      <td>29</td>\n      <td>150</td>\n      <td>650</td>\n      <td>569</td>\n      <td>94</td>\n      <td>157</td>\n      <td>26</td>\n      <td>9</td>\n      <td>...</td>\n      <td>.358</td>\n      <td>.485</td>\n      <td>.844</td>\n      <td>128</td>\n      <td>276</td>\n      <td>16</td>\n      <td>5</td>\n      <td>0</td>\n      <td>5</td>\n      <td>NaN</td>\n    </tr>\n    <tr>\n      <th>3</th>\n      <td>SS</td>\n      <td>Geraldo Perdomo#</td>\n      <td>23</td>\n      <td>144</td>\n      <td>495</td>\n      <td>407</td>\n      <td>71</td>\n      <td>100</td>\n      <td>20</td>\n      <td>4</td>\n      <td>...</td>\n      <td>.353</td>\n      <td>.359</td>\n      <td>.712</td>\n      <td>96</td>\n      <td>146</td>\n      <td>2</td>\n      <td>6</td>\n      <td>14</td>\n      <td>4</td>\n      <td>NaN</td>\n    </tr>\n    <tr>\n      <th>4</th>\n      <td>3B</td>\n      <td>Emmanuel Rivera</td>\n      <td>27</td>\n      <td>86</td>\n      <td>283</td>\n      <td>257</td>\n      <td>32</td>\n      <td>67</td>\n      <td>13</td>\n      <td>0</td>\n      <td>...</td>\n      <td>.314</td>\n      <td>.358</td>\n      <td>.672</td>\n      <td>84</td>\n      <td>92</td>\n      <td>9</td>\n      <td>0</td>\n      <td>0</td>\n      <td>4</td>\n      <td>NaN</td>\n    </tr>\n    <tr>\n      <th>...</th>\n      <td>...</td>\n      <td>...</td>\n      <td>...</td>\n      <td>...</td>\n      <td>...</td>\n      <td>...</td>\n      <td>...</td>\n      <td>...</td>\n      <td>...</td>\n      <td>...</td>\n      <td>...</td>\n      <td>...</td>\n      <td>...</td>\n      <td>...</td>\n      <td>...</td>\n      <td>...</td>\n      <td>...</td>\n      <td>...</td>\n      <td>...</td>\n      <td>...</td>\n      <td>...</td>\n    </tr>\n    <tr>\n      <th>1792</th>\n      <td>P</td>\n      <td>Chad Kuhl</td>\n      <td>30</td>\n      <td>0</td>\n      <td>0</td>\n      <td>NaN</td>\n      <td>NaN</td>\n      <td>NaN</td>\n      <td>NaN</td>\n      <td>NaN</td>\n      <td>...</td>\n      <td>NaN</td>\n      <td>NaN</td>\n      <td>NaN</td>\n      <td>NaN</td>\n      <td>NaN</td>\n      <td>NaN</td>\n      <td>NaN</td>\n      <td>NaN</td>\n      <td>NaN</td>\n      <td>NaN</td>\n    </tr>\n    <tr>\n      <th>1793</th>\n      <td>P</td>\n      <td>MacKenzie Gore*</td>\n      <td>24</td>\n      <td>0</td>\n      <td>0</td>\n      <td>NaN</td>\n      <td>NaN</td>\n      <td>NaN</td>\n      <td>NaN</td>\n      <td>NaN</td>\n      <td>...</td>\n      <td>NaN</td>\n      <td>NaN</td>\n      <td>NaN</td>\n      <td>NaN</td>\n      <td>NaN</td>\n      <td>NaN</td>\n      <td>NaN</td>\n      <td>NaN</td>\n      <td>NaN</td>\n      <td>NaN</td>\n    </tr>\n    <tr>\n      <th>1794</th>\n      <td>NaN</td>\n      <td>Team Totals</td>\n      <td>26.9</td>\n      <td>162</td>\n      <td>6085</td>\n      <td>5522</td>\n      <td>700</td>\n      <td>1401</td>\n      <td>279</td>\n      <td>26</td>\n      <td>...</td>\n      <td>.314</td>\n      <td>.396</td>\n      <td>.709</td>\n      <td>95</td>\n      <td>2185</td>\n      <td>112</td>\n      <td>78</td>\n      <td>20</td>\n      <td>38</td>\n      <td>NaN</td>\n    </tr>\n    <tr>\n      <th>1795</th>\n      <td>NaN</td>\n      <td>Rank in 15 NL teams</td>\n      <td>NaN</td>\n      <td>NaN</td>\n      <td>NaN</td>\n      <td>4</td>\n      <td>12</td>\n      <td>5</td>\n      <td>6</td>\n      <td>7</td>\n      <td>...</td>\n      <td>13</td>\n      <td>12</td>\n      <td>12</td>\n      <td>NaN</td>\n      <td>11</td>\n      <td>NaN</td>\n      <td>5</td>\n      <td>NaN</td>\n      <td>11</td>\n      <td>NaN</td>\n    </tr>\n    <tr>\n      <th>1796</th>\n      <td>NaN</td>\n      <td>NaN</td>\n      <td>NaN</td>\n      <td>NaN</td>\n      <td>NaN</td>\n      <td>NaN</td>\n      <td>NaN</td>\n      <td>NaN</td>\n      <td>NaN</td>\n      <td>NaN</td>\n      <td>...</td>\n      <td>NaN</td>\n      <td>NaN</td>\n      <td>NaN</td>\n      <td>NaN</td>\n      <td>NaN</td>\n      <td>NaN</td>\n      <td>NaN</td>\n      <td>NaN</td>\n      <td>NaN</td>\n      <td>NaN</td>\n    </tr>\n  </tbody>\n</table>\n<p>1797 rows × 27 columns</p>\n</div>"
     },
     "execution_count": 57,
     "metadata": {},
     "output_type": "execute_result"
    }
   ],
   "source": [
    "df = pd.read_csv('fixed_file.csv')\n",
    "df"
   ],
   "metadata": {
    "collapsed": false,
    "ExecuteTime": {
     "end_time": "2023-12-07T23:59:18.638703Z",
     "start_time": "2023-12-07T23:59:18.619559Z"
    }
   },
   "id": "f72cef61c5947774"
  },
  {
   "cell_type": "markdown",
   "source": [
    "'*' - Player bats Left Handed\n",
    "'#' - Player bats both ways"
   ],
   "metadata": {
    "collapsed": false
   },
   "id": "332fb87d4302b15f"
  },
  {
   "cell_type": "markdown",
   "source": [
    "What is the best lineup based purely on OBP?"
   ],
   "metadata": {
    "collapsed": false
   },
   "id": "1e5471b94abd913"
  },
  {
   "cell_type": "code",
   "execution_count": 57,
   "outputs": [],
   "source": [],
   "metadata": {
    "collapsed": false,
    "ExecuteTime": {
     "end_time": "2023-12-07T23:59:20.734204Z",
     "start_time": "2023-12-07T23:59:20.731184Z"
    }
   },
   "id": "cd1bcf7067e0f4f8"
  },
  {
   "cell_type": "code",
   "execution_count": 58,
   "outputs": [
    {
     "data": {
      "text/plain": "      Pos              Name   Age    G    PA    AB    R     H   2B  3B  ...  \\\n0       C    Gabriel Moreno    23  111   380   341   33    97   19   1  ...   \n1      1B  Christian Walker    32  157   661   582   86   150   36   2  ...   \n2      2B      Ketel Marte#    29  150   650   569   94   157   26   9  ...   \n3      SS  Geraldo Perdomo#    23  144   495   407   71   100   20   4  ...   \n4      3B   Emmanuel Rivera    27   86   283   257   32    67   13   0  ...   \n...   ...               ...   ...  ...   ...   ...  ...   ...  ...  ..  ...   \n1756    C       Riley Adams    27   44   158   143    8    39   13   2  ...   \n1757   LF  Corey Dickerson*    34   50   152   144   12    36    7   1  ...   \n1758   CF     Victor Robles    26   36   126   107   15    32    5   1  ...   \n1759   CF       Jacob Young    23   33   121   107    9    27    7   1  ...   \n1794  NaN       Team Totals  26.9  162  6085  5522  700  1401  279  26  ...   \n\n        OBP   SLG   OPS OPS+    TB  GDP HBP  SH  SF  IBB  \n0     0.339  .408  .747  104   139   17   3   0   7  NaN  \n1     0.333  .497  .830  123   289   13   8   0   8  NaN  \n2     0.358  .485  .844  128   276   16   5   0   5  NaN  \n3     0.353  .359  .712   96   146    2   6  14   4  NaN  \n4     0.314  .358  .672   84    92    9   0   0   4  NaN  \n...     ...   ...   ...  ...   ...  ...  ..  ..  ..  ...  \n1756  0.331  .476  .807  120    68    5   2   1   1  NaN  \n1757  0.283  .354  .637   76    51    3   0   0   1  NaN  \n1758  0.385  .364  .750  110    39    3   4   4   0  NaN  \n1759  0.322  .336  .658   84    36    2   1   3   0  NaN  \n1794  0.314  .396  .709   95  2185  112  78  20  38  NaN  \n\n[503 rows x 27 columns]",
      "text/html": "<div>\n<style scoped>\n    .dataframe tbody tr th:only-of-type {\n        vertical-align: middle;\n    }\n\n    .dataframe tbody tr th {\n        vertical-align: top;\n    }\n\n    .dataframe thead th {\n        text-align: right;\n    }\n</style>\n<table border=\"1\" class=\"dataframe\">\n  <thead>\n    <tr style=\"text-align: right;\">\n      <th></th>\n      <th>Pos</th>\n      <th>Name</th>\n      <th>Age</th>\n      <th>G</th>\n      <th>PA</th>\n      <th>AB</th>\n      <th>R</th>\n      <th>H</th>\n      <th>2B</th>\n      <th>3B</th>\n      <th>...</th>\n      <th>OBP</th>\n      <th>SLG</th>\n      <th>OPS</th>\n      <th>OPS+</th>\n      <th>TB</th>\n      <th>GDP</th>\n      <th>HBP</th>\n      <th>SH</th>\n      <th>SF</th>\n      <th>IBB</th>\n    </tr>\n  </thead>\n  <tbody>\n    <tr>\n      <th>0</th>\n      <td>C</td>\n      <td>Gabriel Moreno</td>\n      <td>23</td>\n      <td>111</td>\n      <td>380</td>\n      <td>341</td>\n      <td>33</td>\n      <td>97</td>\n      <td>19</td>\n      <td>1</td>\n      <td>...</td>\n      <td>0.339</td>\n      <td>.408</td>\n      <td>.747</td>\n      <td>104</td>\n      <td>139</td>\n      <td>17</td>\n      <td>3</td>\n      <td>0</td>\n      <td>7</td>\n      <td>NaN</td>\n    </tr>\n    <tr>\n      <th>1</th>\n      <td>1B</td>\n      <td>Christian Walker</td>\n      <td>32</td>\n      <td>157</td>\n      <td>661</td>\n      <td>582</td>\n      <td>86</td>\n      <td>150</td>\n      <td>36</td>\n      <td>2</td>\n      <td>...</td>\n      <td>0.333</td>\n      <td>.497</td>\n      <td>.830</td>\n      <td>123</td>\n      <td>289</td>\n      <td>13</td>\n      <td>8</td>\n      <td>0</td>\n      <td>8</td>\n      <td>NaN</td>\n    </tr>\n    <tr>\n      <th>2</th>\n      <td>2B</td>\n      <td>Ketel Marte#</td>\n      <td>29</td>\n      <td>150</td>\n      <td>650</td>\n      <td>569</td>\n      <td>94</td>\n      <td>157</td>\n      <td>26</td>\n      <td>9</td>\n      <td>...</td>\n      <td>0.358</td>\n      <td>.485</td>\n      <td>.844</td>\n      <td>128</td>\n      <td>276</td>\n      <td>16</td>\n      <td>5</td>\n      <td>0</td>\n      <td>5</td>\n      <td>NaN</td>\n    </tr>\n    <tr>\n      <th>3</th>\n      <td>SS</td>\n      <td>Geraldo Perdomo#</td>\n      <td>23</td>\n      <td>144</td>\n      <td>495</td>\n      <td>407</td>\n      <td>71</td>\n      <td>100</td>\n      <td>20</td>\n      <td>4</td>\n      <td>...</td>\n      <td>0.353</td>\n      <td>.359</td>\n      <td>.712</td>\n      <td>96</td>\n      <td>146</td>\n      <td>2</td>\n      <td>6</td>\n      <td>14</td>\n      <td>4</td>\n      <td>NaN</td>\n    </tr>\n    <tr>\n      <th>4</th>\n      <td>3B</td>\n      <td>Emmanuel Rivera</td>\n      <td>27</td>\n      <td>86</td>\n      <td>283</td>\n      <td>257</td>\n      <td>32</td>\n      <td>67</td>\n      <td>13</td>\n      <td>0</td>\n      <td>...</td>\n      <td>0.314</td>\n      <td>.358</td>\n      <td>.672</td>\n      <td>84</td>\n      <td>92</td>\n      <td>9</td>\n      <td>0</td>\n      <td>0</td>\n      <td>4</td>\n      <td>NaN</td>\n    </tr>\n    <tr>\n      <th>...</th>\n      <td>...</td>\n      <td>...</td>\n      <td>...</td>\n      <td>...</td>\n      <td>...</td>\n      <td>...</td>\n      <td>...</td>\n      <td>...</td>\n      <td>...</td>\n      <td>...</td>\n      <td>...</td>\n      <td>...</td>\n      <td>...</td>\n      <td>...</td>\n      <td>...</td>\n      <td>...</td>\n      <td>...</td>\n      <td>...</td>\n      <td>...</td>\n      <td>...</td>\n      <td>...</td>\n    </tr>\n    <tr>\n      <th>1756</th>\n      <td>C</td>\n      <td>Riley Adams</td>\n      <td>27</td>\n      <td>44</td>\n      <td>158</td>\n      <td>143</td>\n      <td>8</td>\n      <td>39</td>\n      <td>13</td>\n      <td>2</td>\n      <td>...</td>\n      <td>0.331</td>\n      <td>.476</td>\n      <td>.807</td>\n      <td>120</td>\n      <td>68</td>\n      <td>5</td>\n      <td>2</td>\n      <td>1</td>\n      <td>1</td>\n      <td>NaN</td>\n    </tr>\n    <tr>\n      <th>1757</th>\n      <td>LF</td>\n      <td>Corey Dickerson*</td>\n      <td>34</td>\n      <td>50</td>\n      <td>152</td>\n      <td>144</td>\n      <td>12</td>\n      <td>36</td>\n      <td>7</td>\n      <td>1</td>\n      <td>...</td>\n      <td>0.283</td>\n      <td>.354</td>\n      <td>.637</td>\n      <td>76</td>\n      <td>51</td>\n      <td>3</td>\n      <td>0</td>\n      <td>0</td>\n      <td>1</td>\n      <td>NaN</td>\n    </tr>\n    <tr>\n      <th>1758</th>\n      <td>CF</td>\n      <td>Victor Robles</td>\n      <td>26</td>\n      <td>36</td>\n      <td>126</td>\n      <td>107</td>\n      <td>15</td>\n      <td>32</td>\n      <td>5</td>\n      <td>1</td>\n      <td>...</td>\n      <td>0.385</td>\n      <td>.364</td>\n      <td>.750</td>\n      <td>110</td>\n      <td>39</td>\n      <td>3</td>\n      <td>4</td>\n      <td>4</td>\n      <td>0</td>\n      <td>NaN</td>\n    </tr>\n    <tr>\n      <th>1759</th>\n      <td>CF</td>\n      <td>Jacob Young</td>\n      <td>23</td>\n      <td>33</td>\n      <td>121</td>\n      <td>107</td>\n      <td>9</td>\n      <td>27</td>\n      <td>7</td>\n      <td>1</td>\n      <td>...</td>\n      <td>0.322</td>\n      <td>.336</td>\n      <td>.658</td>\n      <td>84</td>\n      <td>36</td>\n      <td>2</td>\n      <td>1</td>\n      <td>3</td>\n      <td>0</td>\n      <td>NaN</td>\n    </tr>\n    <tr>\n      <th>1794</th>\n      <td>NaN</td>\n      <td>Team Totals</td>\n      <td>26.9</td>\n      <td>162</td>\n      <td>6085</td>\n      <td>5522</td>\n      <td>700</td>\n      <td>1401</td>\n      <td>279</td>\n      <td>26</td>\n      <td>...</td>\n      <td>0.314</td>\n      <td>.396</td>\n      <td>.709</td>\n      <td>95</td>\n      <td>2185</td>\n      <td>112</td>\n      <td>78</td>\n      <td>20</td>\n      <td>38</td>\n      <td>NaN</td>\n    </tr>\n  </tbody>\n</table>\n<p>503 rows × 27 columns</p>\n</div>"
     },
     "execution_count": 58,
     "metadata": {},
     "output_type": "execute_result"
    }
   ],
   "source": [
    "df.replace('NULL', 0, inplace=True)\n",
    "df['PA'].fillna(0, inplace=True)\n",
    "df['PA'] = pd.to_numeric(df['PA'], errors='coerce').fillna(0).astype(int)\n",
    "df.replace('NULL', 0, inplace=True)\n",
    "df['OBP'].fillna(0, inplace=True)\n",
    "df['OBP'] = pd.to_numeric(df['OBP'], errors='coerce').fillna(0).astype(float)\n",
    "db = df[df['PA']>100]\n",
    "db"
   ],
   "metadata": {
    "collapsed": false,
    "ExecuteTime": {
     "end_time": "2023-12-07T23:59:28.815228Z",
     "start_time": "2023-12-07T23:59:28.797059Z"
    }
   },
   "id": "fc770f8e41761be9"
  },
  {
   "cell_type": "code",
   "execution_count": 55,
   "outputs": [],
   "source": [],
   "metadata": {
    "collapsed": false,
    "ExecuteTime": {
     "end_time": "2023-12-07T23:58:37.844603Z",
     "start_time": "2023-12-07T23:58:37.831608Z"
    }
   },
   "id": "6010cd5d49a35ff1"
  },
  {
   "cell_type": "code",
   "execution_count": 60,
   "outputs": [],
   "source": [
    "positions = ['C', '1B', '2B', '3B','SS', 'LF', 'RF', 'CF', 'DH', 'OF']\n",
    "for pos in positions:\n",
    "    result = db[db['Pos']== f'{pos}']\n",
    "    result_obp = result.loc[result['OBP'].idxmax()]\n",
    "    result_obp.to_csv('highest_obp.csv', mode='a', header=False, index=False)"
   ],
   "metadata": {
    "collapsed": false,
    "ExecuteTime": {
     "end_time": "2023-12-08T00:00:05.529465Z",
     "start_time": "2023-12-08T00:00:05.520206Z"
    }
   },
   "id": "8056eb380338f570"
  },
  {
   "cell_type": "code",
   "execution_count": 59,
   "outputs": [
    {
     "data": {
      "text/plain": "Pos                    C\nName    Adley Rutschman#\nAge                   25\nG                    154\nPA                   687\nAB                   588\nR                     84\nH                    163\n2B                    31\n3B                     1\nHR                    20\nRBI                   80\nSB                     1\nCS                     2\nBB                    92\nSO                   101\nBA                  .277\nOBP                0.374\nSLG                 .435\nOPS                 .809\nOPS+                 128\nTB                   256\nGDP                   14\nHBP                    2\nSH                     0\nSF                     5\nIBB                  NaN\nName: 118, dtype: object"
     },
     "execution_count": 59,
     "metadata": {},
     "output_type": "execute_result"
    }
   ],
   "source": [
    "# Catcher\n",
    "catchers = db[db['Pos']=='C']\n",
    "catchers_obp = catchers.loc[catchers['OBP'].idxmax()]\n",
    "catchers_obp"
   ],
   "metadata": {
    "collapsed": false,
    "ExecuteTime": {
     "end_time": "2023-12-08T00:00:01.017742Z",
     "start_time": "2023-12-08T00:00:01.014616Z"
    }
   },
   "id": "49111294f8ec5e95"
  },
  {
   "cell_type": "code",
   "execution_count": 72,
   "outputs": [
    {
     "data": {
      "text/plain": "Pos                   1B\nName    Freddie Freeman*\nAge                   33\nG                    161\nPA                   730\nAB                   637\nR                    131\nH                    211\n2B                    59\n3B                     2\nHR                    29\nRBI                  102\nSB                    23\nCS                     1\nBB                    72\nSO                   121\nBA                  .331\nOBP                 0.41\nSLG                 .567\nOPS                 .976\nOPS+                 161\nTB                   361\nGDP                   14\nHBP                   16\nSH                     0\nSF                     5\nIBB                  NaN\nName: 782, dtype: object"
     },
     "execution_count": 72,
     "metadata": {},
     "output_type": "execute_result"
    }
   ],
   "source": [
    "# 1B\n",
    "firstbase = db[db['Pos']=='1B']\n",
    "firstbase_obp = firstbase.loc[firstbase['OBP'].idxmax()]\n",
    "firstbase_obp"
   ],
   "metadata": {
    "collapsed": false,
    "ExecuteTime": {
     "end_time": "2023-12-08T00:04:00.937261Z",
     "start_time": "2023-12-08T00:04:00.933719Z"
    }
   },
   "id": "94bf5dc06f578604"
  },
  {
   "cell_type": "code",
   "execution_count": 62,
   "outputs": [
    {
     "data": {
      "text/plain": "Pos                  2B\nName    Davis Schneider\nAge                  24\nG                    35\nPA                  141\nAB                  116\nR                    23\nH                    32\n2B                   12\n3B                    1\nHR                    8\nRBI                  20\nSB                    1\nCS                    0\nBB                   21\nSO                   43\nBA                 .276\nOBP               0.404\nSLG                .603\nOPS               1.008\nOPS+                175\nTB                   70\nGDP                   2\nHBP                   4\nSH                    0\nSF                    0\nIBB                 NaN\nName: 1705, dtype: object"
     },
     "execution_count": 62,
     "metadata": {},
     "output_type": "execute_result"
    }
   ],
   "source": [
    "# 2B\n",
    "secondbase = db[db['Pos']=='2B']\n",
    "secondbase_obp = secondbase.loc[secondbase['OBP'].idxmax()]\n",
    "secondbase_obp"
   ],
   "metadata": {
    "collapsed": false,
    "ExecuteTime": {
     "end_time": "2023-12-08T00:00:23.528908Z",
     "start_time": "2023-12-08T00:00:23.514060Z"
    }
   },
   "id": "38a593dd27b9ac0a"
  },
  {
   "cell_type": "code",
   "execution_count": 64,
   "outputs": [
    {
     "data": {
      "text/plain": "Pos               3B\nName    Jared Triolo\nAge               25\nG                 54\nPA               209\nAB               181\nR                 30\nH                 54\n2B                 9\n3B                 0\nHR                 3\nRBI               21\nSB                 6\nCS                 1\nBB                24\nSO                63\nBA              .298\nOBP            0.388\nSLG             .398\nOPS             .785\nOPS+             116\nTB                72\nGDP                0\nHBP                3\nSH                 0\nSF                 1\nIBB              NaN\nName: 1280, dtype: object"
     },
     "execution_count": 64,
     "metadata": {},
     "output_type": "execute_result"
    }
   ],
   "source": [
    "# 3B\n",
    "thirdbase = db[db['Pos']=='3B']\n",
    "thirdbase_obp = thirdbase.loc[thirdbase['OBP'].idxmax()]\n",
    "thirdbase_obp"
   ],
   "metadata": {
    "collapsed": false,
    "ExecuteTime": {
     "end_time": "2023-12-08T00:00:39.766666Z",
     "start_time": "2023-12-08T00:00:39.759863Z"
    }
   },
   "id": "4c0829ecbfaa057b"
  },
  {
   "cell_type": "code",
   "execution_count": 65,
   "outputs": [
    {
     "data": {
      "text/plain": "Pos                SS\nName    Corey Seager*\nAge                29\nG                 119\nPA                536\nAB                477\nR                  88\nH                 156\n2B                 42\n3B                  0\nHR                 33\nRBI                96\nSB                  2\nCS                  1\nBB                 49\nSO                 88\nBA               .327\nOBP              0.39\nSLG              .623\nOPS             1.013\nOPS+              170\nTB                297\nGDP                 9\nHBP                 4\nSH                  0\nSF                  6\nIBB               NaN\nName: 1639, dtype: object"
     },
     "execution_count": 65,
     "metadata": {},
     "output_type": "execute_result"
    }
   ],
   "source": [
    "short = db[db['Pos']=='SS']\n",
    "short_obp = short.loc[short['OBP'].idxmax()]\n",
    "short_obp"
   ],
   "metadata": {
    "collapsed": false,
    "ExecuteTime": {
     "end_time": "2023-12-08T00:01:09.409765Z",
     "start_time": "2023-12-08T00:01:09.397042Z"
    }
   },
   "id": "57833a5bb9cce594"
  },
  {
   "cell_type": "code",
   "execution_count": 66,
   "outputs": [
    {
     "data": {
      "text/plain": "Pos             LF\nName    Juan Soto*\nAge             24\nG              162\nPA             708\nAB             568\nR               97\nH              156\n2B              32\n3B               1\nHR              35\nRBI            109\nSB              12\nCS               5\nBB             132\nSO             129\nBA            .275\nOBP           0.41\nSLG           .519\nOPS           .930\nOPS+           158\nTB             295\nGDP             18\nHBP              2\nSH               1\nSF               5\nIBB            NaN\nName: 1335, dtype: object"
     },
     "execution_count": 66,
     "metadata": {},
     "output_type": "execute_result"
    }
   ],
   "source": [
    "left = db[db['Pos']=='LF']\n",
    "left_obp = left.loc[left['OBP'].idxmax()]\n",
    "left_obp"
   ],
   "metadata": {
    "collapsed": false,
    "ExecuteTime": {
     "end_time": "2023-12-08T00:01:15.370433Z",
     "start_time": "2023-12-08T00:01:15.357269Z"
    }
   },
   "id": "eed95bc231f13bc3"
  },
  {
   "cell_type": "code",
   "execution_count": 67,
   "outputs": [
    {
     "data": {
      "text/plain": "Pos                CF\nName    Victor Robles\nAge                26\nG                  36\nPA                126\nAB                107\nR                  15\nH                  32\n2B                  5\n3B                  1\nHR                  0\nRBI                 8\nSB                  8\nCS                  1\nBB                 11\nSO                 18\nBA               .299\nOBP             0.385\nSLG              .364\nOPS              .750\nOPS+              110\nTB                 39\nGDP                 3\nHBP                 4\nSH                  4\nSF                  0\nIBB               NaN\nName: 1758, dtype: object"
     },
     "execution_count": 67,
     "metadata": {},
     "output_type": "execute_result"
    }
   ],
   "source": [
    "center = db[db['Pos']=='CF']\n",
    "center_obp = center.loc[center['OBP'].idxmax()]\n",
    "center_obp"
   ],
   "metadata": {
    "collapsed": false,
    "ExecuteTime": {
     "end_time": "2023-12-08T00:01:22.004706Z",
     "start_time": "2023-12-08T00:01:21.991777Z"
    }
   },
   "id": "d92f822c1a4e41b6"
  },
  {
   "cell_type": "code",
   "execution_count": 68,
   "outputs": [
    {
     "data": {
      "text/plain": "Pos                   RF\nName    Ronald Acuna Jr.\nAge                   25\nG                    159\nPA                   735\nAB                   643\nR                    149\nH                    217\n2B                    35\n3B                     4\nHR                    41\nRBI                  106\nSB                    73\nCS                    14\nBB                    80\nSO                    84\nBA                  .337\nOBP                0.416\nSLG                 .596\nOPS                1.012\nOPS+                 168\nTB                   383\nGDP                   15\nHBP                    9\nSH                     0\nSF                     3\nIBB                  NaN\nName: 67, dtype: object"
     },
     "execution_count": 68,
     "metadata": {},
     "output_type": "execute_result"
    }
   ],
   "source": [
    "right = db[db['Pos']=='RF']\n",
    "right_obp = right.loc[right['OBP'].idxmax()]\n",
    "right_obp"
   ],
   "metadata": {
    "collapsed": false,
    "ExecuteTime": {
     "end_time": "2023-12-08T00:01:27.269902Z",
     "start_time": "2023-12-08T00:01:27.257449Z"
    }
   },
   "id": "72637b4cc14b92c9"
  },
  {
   "cell_type": "code",
   "execution_count": 69,
   "outputs": [
    {
     "data": {
      "text/plain": "Pos                 DH\nName    Shohei Ohtani*\nAge                 28\nG                  135\nPA                 599\nAB                 497\nR                  102\nH                  151\n2B                  26\n3B                   8\nHR                  44\nRBI                 95\nSB                  20\nCS                   6\nBB                  91\nSO                 143\nBA                .304\nOBP              0.412\nSLG               .654\nOPS              1.066\nOPS+               184\nTB                 325\nGDP                  9\nHBP                  3\nSH                   0\nSF                   3\nIBB                NaN\nName: 717, dtype: object"
     },
     "execution_count": 69,
     "metadata": {},
     "output_type": "execute_result"
    }
   ],
   "source": [
    "dh = db[db['Pos']=='DH']\n",
    "dh_obp = dh.loc[dh['OBP'].idxmax()]\n",
    "dh_obp"
   ],
   "metadata": {
    "collapsed": false,
    "ExecuteTime": {
     "end_time": "2023-12-08T00:01:33.264214Z",
     "start_time": "2023-12-08T00:01:33.250054Z"
    }
   },
   "id": "7896254883551b7c"
  },
  {
   "cell_type": "code",
   "execution_count": 70,
   "outputs": [
    {
     "data": {
      "text/plain": "Pos               OF\nName    Nolan Jones*\nAge               25\nG                106\nPA               424\nAB               367\nR                 60\nH                109\n2B                22\n3B                 4\nHR                20\nRBI               62\nSB                20\nCS                 4\nBB                53\nSO               126\nBA              .297\nOBP            0.389\nSLG             .542\nOPS             .931\nOPS+             138\nTB               199\nGDP                1\nHBP                3\nSH                 0\nSF                 1\nIBB              NaN\nName: 489, dtype: object"
     },
     "execution_count": 70,
     "metadata": {},
     "output_type": "execute_result"
    }
   ],
   "source": [
    "of = db[db['Pos']=='OF']\n",
    "of_obp = of.loc[of['OBP'].idxmax()]\n",
    "of_obp"
   ],
   "metadata": {
    "collapsed": false,
    "ExecuteTime": {
     "end_time": "2023-12-08T00:01:37.633700Z",
     "start_time": "2023-12-08T00:01:37.620799Z"
    }
   },
   "id": "b8afe919253013e4"
  },
  {
   "cell_type": "code",
   "execution_count": null,
   "outputs": [],
   "source": [],
   "metadata": {
    "collapsed": false
   },
   "id": "cb22afcb97e6f084"
  }
 ],
 "metadata": {
  "kernelspec": {
   "display_name": "Python 3",
   "language": "python",
   "name": "python3"
  },
  "language_info": {
   "codemirror_mode": {
    "name": "ipython",
    "version": 2
   },
   "file_extension": ".py",
   "mimetype": "text/x-python",
   "name": "python",
   "nbconvert_exporter": "python",
   "pygments_lexer": "ipython2",
   "version": "2.7.6"
  }
 },
 "nbformat": 4,
 "nbformat_minor": 5
}
